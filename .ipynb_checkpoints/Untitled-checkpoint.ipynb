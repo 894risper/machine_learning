{
<<<<<<< HEAD
 "cells": [
  {
   "cell_type": "code",
   "execution_count": null,
   "id": "04d64ae0-66be-4a3c-9052-1397ba7ff714",
   "metadata": {},
   "outputs": [],
   "source": []
  }
 ],
 "metadata": {
  "kernelspec": {
   "display_name": "Python 3 (ipykernel)",
   "language": "python",
   "name": "python3"
  },
  "language_info": {
   "codemirror_mode": {
    "name": "ipython",
    "version": 3
   },
   "file_extension": ".py",
   "mimetype": "text/x-python",
   "name": "python",
   "nbconvert_exporter": "python",
   "pygments_lexer": "ipython3",
   "version": "3.12.4"
  }
 },
=======
 "cells": [],
 "metadata": {},
>>>>>>> 73bd9ad99c897fdf677da94b3c8f23836ec0da54
 "nbformat": 4,
 "nbformat_minor": 5
}
